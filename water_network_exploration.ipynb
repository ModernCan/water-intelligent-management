{
 "cells": [
  {
   "cell_type": "markdown",
   "metadata": {},
   "source": [
    "# Water Network Neo4j Exploration\n",
    "\n",
    "Interactive notebook to explore Neo4j fundamentals with water network data.\n",
    "\n",
    "Based on `docs/02-neo4j-fundamentals.md`"
   ]
  },
  {
   "cell_type": "code",
   "execution_count": 1,
   "metadata": {},
   "outputs": [
    {
     "name": "stdout",
     "output_type": "stream",
     "text": [
      "  System: darwin\n",
      "  Platform: macOS-15.6-arm64-arm-64bit\n",
      "  Python version: 3.10.6\n",
      "  System Execution (Python) path: .venv/bin/python\n",
      "  Last update: 2025-08-14\n"
     ]
    }
   ],
   "source": [
    "# Required Modules\n",
    "\n",
    "import sys\n",
    "import os\n",
    "import logging\n",
    "import platform\n",
    "from datetime import date, datetime\n",
    "\n",
    "from dotenv import load_dotenv\n",
    "\n",
    "from neo4j import GraphDatabase\n",
    "import pandas as pd\n",
    "import matplotlib.pyplot as plt\n",
    "\n",
    "print(f\"  System: {sys.platform}\")\n",
    "print(f\"  Platform: {platform.platform()}\")\n",
    "print(f\"  Python version: {platform.python_version()}\")\n",
    "print(f\"  System Execution (Python) path: {'/'.join(sys.executable.strip('/').split('/')[-3:])}\")\n",
    "print(f\"  Last update: {date.today().strftime('%Y-%m-%d')}\")"
   ]
  },
  {
   "cell_type": "code",
   "execution_count": 2,
   "metadata": {},
   "outputs": [],
   "source": [
    "# Configure logging\n",
    "logging.basicConfig(level=logging.INFO,\n",
    "                    format='%(asctime)s - %(name)s - %(levelname)s - %(message)s')\n",
    "logger = logging.getLogger(__name__)"
   ]
  },
  {
   "cell_type": "markdown",
   "metadata": {},
   "source": [
    "## 1. Database Connection\n",
    "\n",
    "Update the connection parameters below based on your Neo4j setup:"
   ]
  },
  {
   "cell_type": "code",
   "execution_count": null,
   "metadata": {},
   "outputs": [
    {
     "name": "stdout",
     "output_type": "stream",
     "text": [
      "Connection successful!\n"
     ]
    }
   ],
   "source": [
    "# Create connection\n",
    "driver = GraphDatabase.driver(uri= os.environ.get(\"URI\"),\n",
    "                              auth=(os.environ.get(\"USER\"),\n",
    "                                    os.environ.get(\"PASSWORD\")\n",
    "                                    )\n",
    "                                )\n",
    "\n",
    "# Test connection\n",
    "with driver.session() as session:\n",
    "    result = session.run(\"RETURN 'Connection successful!' AS message\")\n",
    "    print(result.single()[\"message\"])"
   ]
  },
  {
   "cell_type": "markdown",
   "metadata": {},
   "source": [
    "## 2. Clear Database and Create Constraints"
   ]
  },
  {
   "cell_type": "code",
   "execution_count": 3,
   "metadata": {},
   "outputs": [
    {
     "name": "stdout",
     "output_type": "stream",
     "text": [
      "Database cleared.\n"
     ]
    }
   ],
   "source": [
    "# Clear existing data\n",
    "with driver.session() as session:\n",
    "    session.run(\"MATCH (n) DETACH DELETE n\")\n",
    "    print(\"Database cleared.\")"
   ]
  },
  {
   "cell_type": "code",
   "execution_count": 4,
   "metadata": {},
   "outputs": [
    {
     "name": "stdout",
     "output_type": "stream",
     "text": [
      "✓ Created: CREATE CONSTRAINT FOR (v:Valve) REQUIRE v.id IS UNIQUE\n",
      "✓ Created: CREATE CONSTRAINT FOR (p:Pipe) REQUIRE p.id IS UNIQUE\n",
      "✓ Created: CREATE CONSTRAINT FOR (j:Junction) REQUIRE j.id IS UNIQUE\n",
      "✓ Created: CREATE CONSTRAINT FOR (t:Tank) REQUIRE t.id IS UNIQUE\n",
      "✓ Created: CREATE CONSTRAINT FOR (pump:Pump) REQUIRE pump.id IS UNIQUE\n"
     ]
    }
   ],
   "source": [
    "# Create constraints\n",
    "constraints = [\n",
    "    \"CREATE CONSTRAINT FOR (v:Valve) REQUIRE v.id IS UNIQUE\",\n",
    "    \"CREATE CONSTRAINT FOR (p:Pipe) REQUIRE p.id IS UNIQUE\", \n",
    "    \"CREATE CONSTRAINT FOR (j:Junction) REQUIRE j.id IS UNIQUE\",\n",
    "    \"CREATE CONSTRAINT FOR (t:Tank) REQUIRE t.id IS UNIQUE\",\n",
    "    \"CREATE CONSTRAINT FOR (pump:Pump) REQUIRE pump.id IS UNIQUE\"\n",
    "]\n",
    "\n",
    "with driver.session() as session:\n",
    "    for constraint in constraints:\n",
    "        try:\n",
    "            session.run(constraint)\n",
    "            print(f\"✓ Created: {constraint}\")\n",
    "        except Exception as e:\n",
    "            print(f\"⚠ Constraint may already exist: {constraint}\")"
   ]
  },
  {
   "cell_type": "markdown",
   "metadata": {},
   "source": [
    "## 3. Create Water Network Components"
   ]
  },
  {
   "cell_type": "code",
   "execution_count": 5,
   "metadata": {},
   "outputs": [
    {
     "name": "stdout",
     "output_type": "stream",
     "text": [
      "✓ All components created successfully!\n"
     ]
    }
   ],
   "source": [
    "# Create sample water network components\n",
    "components = [\n",
    "    # Tank\n",
    "    \"\"\"\n",
    "    CREATE (t1:Tank {\n",
    "        id: 'TNK001',\n",
    "        capacity: 1000000,\n",
    "        level: 850000,\n",
    "        elevation: 120.0,\n",
    "        location: 'Reservoir Hill'\n",
    "    })\n",
    "    \"\"\",\n",
    "    \n",
    "    # Junctions\n",
    "    \"\"\"\n",
    "    CREATE (j1:Junction {\n",
    "        id: 'JCT001', \n",
    "        elevation: 100.0, \n",
    "        location: 'North District'\n",
    "    })\n",
    "    \"\"\",\n",
    "    \"\"\"\n",
    "    CREATE (j2:Junction {\n",
    "        id: 'JCT002', \n",
    "        elevation: 95.0, \n",
    "        location: 'Central Plaza'\n",
    "    })\n",
    "    \"\"\",\n",
    "    \n",
    "    # Valves\n",
    "    \"\"\"\n",
    "    CREATE (v1:Valve {\n",
    "        id: 'VLV001',\n",
    "        type: 'Gate Valve',\n",
    "        diameter: 12,\n",
    "        status: 'Open',\n",
    "        installDate: date('2015-03-15')\n",
    "    })\n",
    "    \"\"\",\n",
    "    \"\"\"\n",
    "    CREATE (v2:Valve {\n",
    "        id: 'VLV002',\n",
    "        type: 'Ball Valve',\n",
    "        diameter: 8,\n",
    "        status: 'Closed',\n",
    "        installDate: date('2018-07-22')\n",
    "    })\n",
    "    \"\"\",\n",
    "    \n",
    "    # Pump\n",
    "    \"\"\"\n",
    "    CREATE (pump1:Pump {\n",
    "        id: 'PMP001',\n",
    "        type: 'Centrifugal',\n",
    "        capacity: 500,\n",
    "        status: 'Running',\n",
    "        power: 25.5\n",
    "    })\n",
    "    \"\"\",\n",
    "    \n",
    "    # Pipes\n",
    "    \"\"\"\n",
    "    CREATE (p1:Pipe {\n",
    "        id: 'PIP001',\n",
    "        material: 'Cast Iron',\n",
    "        diameter: 12,\n",
    "        length: 500.0,\n",
    "        installDate: date('2010-05-10')\n",
    "    })\n",
    "    \"\"\",\n",
    "    \"\"\"\n",
    "    CREATE (p2:Pipe {\n",
    "        id: 'PIP002',\n",
    "        material: 'PVC',\n",
    "        diameter: 8,\n",
    "        length: 300.0,\n",
    "        installDate: date('2020-01-15')\n",
    "    })\n",
    "    \"\"\"\n",
    "]\n",
    "\n",
    "with driver.session() as session:\n",
    "    for component in components:\n",
    "        session.run(component)\n",
    "    print(\"✓ All components created successfully!\")"
   ]
  },
  {
   "cell_type": "markdown",
   "metadata": {},
   "source": [
    "## 4. Create Relationships"
   ]
  },
  {
   "cell_type": "code",
   "execution_count": 6,
   "metadata": {},
   "outputs": [
    {
     "name": "stdout",
     "output_type": "stream",
     "text": [
      "✓ All relationships created successfully!\n"
     ]
    }
   ],
   "source": [
    "# Create relationships between components\n",
    "relationships = [\n",
    "    # Tank feeds Junction 1 through Pipe 1\n",
    "    \"MATCH (t:Tank {id: 'TNK001'}), (p:Pipe {id: 'PIP001'}) CREATE (t)-[:FEEDS]->(p)\",\n",
    "    \"MATCH (p:Pipe {id: 'PIP001'}), (j:Junction {id: 'JCT001'}) CREATE (p)-[:CONNECTS_TO]->(j)\",\n",
    "    \n",
    "    # Junction 1 connects to Valve 1\n",
    "    \"MATCH (j:Junction {id: 'JCT001'}), (v:Valve {id: 'VLV001'}) CREATE (j)-[:CONNECTS_TO]->(v)\",\n",
    "    \n",
    "    # Valve 1 connects to Junction 2 through Pipe 2\n",
    "    \"MATCH (v:Valve {id: 'VLV001'}), (p:Pipe {id: 'PIP002'}) CREATE (v)-[:CONNECTS_TO]->(p)\",\n",
    "    \"MATCH (p:Pipe {id: 'PIP002'}), (j:Junction {id: 'JCT002'}) CREATE (p)-[:CONNECTS_TO]->(j)\",\n",
    "    \n",
    "    # Pump connected to Junction 2\n",
    "    \"MATCH (pump:Pump {id: 'PMP001'}), (j:Junction {id: 'JCT002'}) CREATE (pump)-[:CONNECTS_TO]->(j)\",\n",
    "    \n",
    "    # Valve 2 also connected to Junction 2\n",
    "    \"MATCH (v:Valve {id: 'VLV002'}), (j:Junction {id: 'JCT002'}) CREATE (v)-[:CONNECTS_TO]->(j)\"\n",
    "]\n",
    "\n",
    "with driver.session() as session:\n",
    "    for rel in relationships:\n",
    "        session.run(rel)\n",
    "    print(\"✓ All relationships created successfully!\")"
   ]
  },
  {
   "cell_type": "markdown",
   "metadata": {},
   "source": [
    "## 5. Basic Queries and Analysis"
   ]
  },
  {
   "cell_type": "code",
   "execution_count": 7,
   "metadata": {},
   "outputs": [
    {
     "name": "stdout",
     "output_type": "stream",
     "text": [
      "Component Counts:\n",
      "  Tank: 1\n",
      "  Junction: 2\n",
      "  Valve: 2\n",
      "  Pump: 1\n",
      "  Pipe: 2\n"
     ]
    }
   ],
   "source": [
    "# Count components by type\n",
    "with driver.session() as session:\n",
    "    result = session.run(\"MATCH (n) RETURN labels(n) AS type, count(n) AS count\")\n",
    "    component_counts = [(record[\"type\"][0], record[\"count\"]) for record in result]\n",
    "    \n",
    "print(\"Component Counts:\")\n",
    "for component_type, count in component_counts:\n",
    "    print(f\"  {component_type}: {count}\")"
   ]
  },
  {
   "cell_type": "code",
   "execution_count": 8,
   "metadata": {},
   "outputs": [
    {
     "name": "stdout",
     "output_type": "stream",
     "text": [
      "All Valves:\n"
     ]
    },
    {
     "data": {
      "application/vnd.microsoft.datawrangler.viewer.v0+json": {
       "columns": [
        {
         "name": "index",
         "rawType": "int64",
         "type": "integer"
        },
        {
         "name": "v.id",
         "rawType": "object",
         "type": "string"
        },
        {
         "name": "v.type",
         "rawType": "object",
         "type": "string"
        },
        {
         "name": "v.status",
         "rawType": "object",
         "type": "string"
        },
        {
         "name": "v.diameter",
         "rawType": "int64",
         "type": "integer"
        }
       ],
       "ref": "29724b82-51a8-4990-ab3a-c1fa038cb236",
       "rows": [
        [
         "0",
         "VLV001",
         "Gate Valve",
         "Open",
         "12"
        ],
        [
         "1",
         "VLV002",
         "Ball Valve",
         "Closed",
         "8"
        ]
       ],
       "shape": {
        "columns": 4,
        "rows": 2
       }
      },
      "text/html": [
       "<div>\n",
       "<style scoped>\n",
       "    .dataframe tbody tr th:only-of-type {\n",
       "        vertical-align: middle;\n",
       "    }\n",
       "\n",
       "    .dataframe tbody tr th {\n",
       "        vertical-align: top;\n",
       "    }\n",
       "\n",
       "    .dataframe thead th {\n",
       "        text-align: right;\n",
       "    }\n",
       "</style>\n",
       "<table border=\"1\" class=\"dataframe\">\n",
       "  <thead>\n",
       "    <tr style=\"text-align: right;\">\n",
       "      <th></th>\n",
       "      <th>v.id</th>\n",
       "      <th>v.type</th>\n",
       "      <th>v.status</th>\n",
       "      <th>v.diameter</th>\n",
       "    </tr>\n",
       "  </thead>\n",
       "  <tbody>\n",
       "    <tr>\n",
       "      <th>0</th>\n",
       "      <td>VLV001</td>\n",
       "      <td>Gate Valve</td>\n",
       "      <td>Open</td>\n",
       "      <td>12</td>\n",
       "    </tr>\n",
       "    <tr>\n",
       "      <th>1</th>\n",
       "      <td>VLV002</td>\n",
       "      <td>Ball Valve</td>\n",
       "      <td>Closed</td>\n",
       "      <td>8</td>\n",
       "    </tr>\n",
       "  </tbody>\n",
       "</table>\n",
       "</div>"
      ],
      "text/plain": [
       "     v.id      v.type v.status  v.diameter\n",
       "0  VLV001  Gate Valve     Open          12\n",
       "1  VLV002  Ball Valve   Closed           8"
      ]
     },
     "metadata": {},
     "output_type": "display_data"
    }
   ],
   "source": [
    "# Find all valves with their properties\n",
    "with driver.session() as session:\n",
    "    result = session.run(\"MATCH (v:Valve) RETURN v.id, v.type, v.status, v.diameter\")\n",
    "    valves_df = pd.DataFrame([dict(record) for record in result])\n",
    "    \n",
    "print(\"All Valves:\")\n",
    "display(valves_df)"
   ]
  },
  {
   "cell_type": "code",
   "execution_count": 9,
   "metadata": {},
   "outputs": [
    {
     "name": "stdout",
     "output_type": "stream",
     "text": [
      "Components connected to JCT002:\n"
     ]
    },
    {
     "data": {
      "application/vnd.microsoft.datawrangler.viewer.v0+json": {
       "columns": [
        {
         "name": "index",
         "rawType": "int64",
         "type": "integer"
        },
        {
         "name": "component_id",
         "rawType": "object",
         "type": "string"
        },
        {
         "name": "type",
         "rawType": "object",
         "type": "unknown"
        }
       ],
       "ref": "3c025b25-866a-4ff2-84b2-ade986144bad",
       "rows": [
        [
         "0",
         "VLV002",
         "['Valve']"
        ],
        [
         "1",
         "PMP001",
         "['Pump']"
        ],
        [
         "2",
         "PIP002",
         "['Pipe']"
        ]
       ],
       "shape": {
        "columns": 2,
        "rows": 3
       }
      },
      "text/html": [
       "<div>\n",
       "<style scoped>\n",
       "    .dataframe tbody tr th:only-of-type {\n",
       "        vertical-align: middle;\n",
       "    }\n",
       "\n",
       "    .dataframe tbody tr th {\n",
       "        vertical-align: top;\n",
       "    }\n",
       "\n",
       "    .dataframe thead th {\n",
       "        text-align: right;\n",
       "    }\n",
       "</style>\n",
       "<table border=\"1\" class=\"dataframe\">\n",
       "  <thead>\n",
       "    <tr style=\"text-align: right;\">\n",
       "      <th></th>\n",
       "      <th>component_id</th>\n",
       "      <th>type</th>\n",
       "    </tr>\n",
       "  </thead>\n",
       "  <tbody>\n",
       "    <tr>\n",
       "      <th>0</th>\n",
       "      <td>VLV002</td>\n",
       "      <td>[Valve]</td>\n",
       "    </tr>\n",
       "    <tr>\n",
       "      <th>1</th>\n",
       "      <td>PMP001</td>\n",
       "      <td>[Pump]</td>\n",
       "    </tr>\n",
       "    <tr>\n",
       "      <th>2</th>\n",
       "      <td>PIP002</td>\n",
       "      <td>[Pipe]</td>\n",
       "    </tr>\n",
       "  </tbody>\n",
       "</table>\n",
       "</div>"
      ],
      "text/plain": [
       "  component_id     type\n",
       "0       VLV002  [Valve]\n",
       "1       PMP001   [Pump]\n",
       "2       PIP002   [Pipe]"
      ]
     },
     "metadata": {},
     "output_type": "display_data"
    }
   ],
   "source": [
    "# Find components connected to JCT002\n",
    "with driver.session() as session:\n",
    "    result = session.run(\"\"\"\n",
    "        MATCH (n)-[:CONNECTS_TO]-(j:Junction {id: 'JCT002'}) \n",
    "        RETURN n.id AS component_id, labels(n) AS type\n",
    "    \"\"\")\n",
    "    connected_df = pd.DataFrame([dict(record) for record in result])\n",
    "    \n",
    "print(\"Components connected to JCT002:\")\n",
    "display(connected_df)"
   ]
  },
  {
   "cell_type": "code",
   "execution_count": 10,
   "metadata": {},
   "outputs": [
    {
     "name": "stdout",
     "output_type": "stream",
     "text": [
      "Path from Tank to Junction: TNK001 -> PIP001 -> JCT001 -> VLV001 -> PIP002 -> JCT002\n"
     ]
    }
   ],
   "source": [
    "# Find path from tank to junction\n",
    "with driver.session() as session:\n",
    "    result = session.run(\"\"\"\n",
    "        MATCH path = (t:Tank {id: 'TNK001'})-[*]-(j:Junction {id: 'JCT002'})\n",
    "        RETURN [node in nodes(path) | node.id] AS path_components\n",
    "        LIMIT 1\n",
    "    \"\"\")\n",
    "    \n",
    "    for record in result:\n",
    "        path = record[\"path_components\"]\n",
    "        print(f\"Path from Tank to Junction: {' -> '.join(path)}\")"
   ]
  },
  {
   "cell_type": "markdown",
   "metadata": {},
   "source": [
    "## 6. Visualization"
   ]
  },
  {
   "cell_type": "code",
   "execution_count": 11,
   "metadata": {},
   "outputs": [
    {
     "data": {
      "image/png": "[encoded data removed]",
      "text/plain": [
       "<Figure size 1000x600 with 1 Axes>"
      ]
     },
     "metadata": {},
     "output_type": "display_data"
    }
   ],
   "source": [
    "# Create a simple bar chart of component counts\n",
    "types, counts = zip(*component_counts)\n",
    "\n",
    "plt.figure(figsize=(10, 6))\n",
    "plt.bar(types, counts, color=['skyblue', 'lightcoral', 'lightgreen', 'gold', 'plum'])\n",
    "plt.title('Water Network Components Count')\n",
    "plt.xlabel('Component Type')\n",
    "plt.ylabel('Count')\n",
    "plt.xticks(rotation=45)\n",
    "plt.tight_layout()\n",
    "plt.show()"
   ]
  },
  {
   "cell_type": "markdown",
   "metadata": {},
   "source": [
    "## 7. Advanced Queries"
   ]
  },
  {
   "cell_type": "code",
   "execution_count": 13,
   "metadata": {},
   "outputs": [],
   "source": [
    "# Find old infrastructure (installed before 2015)\n",
    "# with driver.session() as session:\n",
    "#     result = session.run(\"\"\"\n",
    "#         MATCH (n) \n",
    "#         WHERE exists(n.installDate) AND n.installDate < date('2015-01-01')\n",
    "#         RETURN n.id, labels(n) AS type, n.installDate\n",
    "#         ORDER BY n.installDate\n",
    "#     \"\"\")\n",
    "    \n",
    "#     old_components = pd.DataFrame([dict(record) for record in result])\n",
    "    \n",
    "# print(\"Components installed before 2015:\")\n",
    "# display(old_components)"
   ]
  },
  {
   "cell_type": "code",
   "execution_count": 14,
   "metadata": {},
   "outputs": [
    {
     "name": "stdout",
     "output_type": "stream",
     "text": [
      "Components by connectivity:\n"
     ]
    },
    {
     "data": {
      "application/vnd.microsoft.datawrangler.viewer.v0+json": {
       "columns": [
        {
         "name": "index",
         "rawType": "int64",
         "type": "integer"
        },
        {
         "name": "n.id",
         "rawType": "object",
         "type": "string"
        },
        {
         "name": "type",
         "rawType": "object",
         "type": "unknown"
        },
        {
         "name": "connections",
         "rawType": "int64",
         "type": "integer"
        }
       ],
       "ref": "eb7726cb-e0f0-4d89-98ef-927793ef5276",
       "rows": [
        [
         "0",
         "JCT002",
         "['Junction']",
         "3"
        ],
        [
         "1",
         "PIP001",
         "['Pipe']",
         "2"
        ],
        [
         "2",
         "JCT001",
         "['Junction']",
         "2"
        ],
        [
         "3",
         "VLV001",
         "['Valve']",
         "2"
        ],
        [
         "4",
         "PIP002",
         "['Pipe']",
         "2"
        ],
        [
         "5",
         "TNK001",
         "['Tank']",
         "1"
        ],
        [
         "6",
         "VLV002",
         "['Valve']",
         "1"
        ],
        [
         "7",
         "PMP001",
         "['Pump']",
         "1"
        ]
       ],
       "shape": {
        "columns": 3,
        "rows": 8
       }
      },
      "text/html": [
       "<div>\n",
       "<style scoped>\n",
       "    .dataframe tbody tr th:only-of-type {\n",
       "        vertical-align: middle;\n",
       "    }\n",
       "\n",
       "    .dataframe tbody tr th {\n",
       "        vertical-align: top;\n",
       "    }\n",
       "\n",
       "    .dataframe thead th {\n",
       "        text-align: right;\n",
       "    }\n",
       "</style>\n",
       "<table border=\"1\" class=\"dataframe\">\n",
       "  <thead>\n",
       "    <tr style=\"text-align: right;\">\n",
       "      <th></th>\n",
       "      <th>n.id</th>\n",
       "      <th>type</th>\n",
       "      <th>connections</th>\n",
       "    </tr>\n",
       "  </thead>\n",
       "  <tbody>\n",
       "    <tr>\n",
       "      <th>0</th>\n",
       "      <td>JCT002</td>\n",
       "      <td>[Junction]</td>\n",
       "      <td>3</td>\n",
       "    </tr>\n",
       "    <tr>\n",
       "      <th>1</th>\n",
       "      <td>PIP001</td>\n",
       "      <td>[Pipe]</td>\n",
       "      <td>2</td>\n",
       "    </tr>\n",
       "    <tr>\n",
       "      <th>2</th>\n",
       "      <td>JCT001</td>\n",
       "      <td>[Junction]</td>\n",
       "      <td>2</td>\n",
       "    </tr>\n",
       "    <tr>\n",
       "      <th>3</th>\n",
       "      <td>VLV001</td>\n",
       "      <td>[Valve]</td>\n",
       "      <td>2</td>\n",
       "    </tr>\n",
       "    <tr>\n",
       "      <th>4</th>\n",
       "      <td>PIP002</td>\n",
       "      <td>[Pipe]</td>\n",
       "      <td>2</td>\n",
       "    </tr>\n",
       "    <tr>\n",
       "      <th>5</th>\n",
       "      <td>TNK001</td>\n",
       "      <td>[Tank]</td>\n",
       "      <td>1</td>\n",
       "    </tr>\n",
       "    <tr>\n",
       "      <th>6</th>\n",
       "      <td>VLV002</td>\n",
       "      <td>[Valve]</td>\n",
       "      <td>1</td>\n",
       "    </tr>\n",
       "    <tr>\n",
       "      <th>7</th>\n",
       "      <td>PMP001</td>\n",
       "      <td>[Pump]</td>\n",
       "      <td>1</td>\n",
       "    </tr>\n",
       "  </tbody>\n",
       "</table>\n",
       "</div>"
      ],
      "text/plain": [
       "     n.id        type  connections\n",
       "0  JCT002  [Junction]            3\n",
       "1  PIP001      [Pipe]            2\n",
       "2  JCT001  [Junction]            2\n",
       "3  VLV001     [Valve]            2\n",
       "4  PIP002      [Pipe]            2\n",
       "5  TNK001      [Tank]            1\n",
       "6  VLV002     [Valve]            1\n",
       "7  PMP001      [Pump]            1"
      ]
     },
     "metadata": {},
     "output_type": "display_data"
    }
   ],
   "source": [
    "# Find critical components (high connectivity)\n",
    "with driver.session() as session:\n",
    "    result = session.run(\"\"\"\n",
    "        MATCH (n)-[r]-()\n",
    "        RETURN n.id, labels(n) AS type, count(r) AS connections\n",
    "        ORDER BY connections DESC\n",
    "    \"\"\")\n",
    "    \n",
    "    connectivity_df = pd.DataFrame([dict(record) for record in result])\n",
    "    \n",
    "print(\"Components by connectivity:\")\n",
    "display(connectivity_df)"
   ]
  },
  {
   "cell_type": "markdown",
   "metadata": {},
   "source": [
    "## 8. Cleanup"
   ]
  },
  {
   "cell_type": "code",
   "execution_count": null,
   "metadata": {},
   "outputs": [],
   "source": [
    "# Close the database connection\n",
    "driver.close()\n",
    "print(\"Database connection closed.\")"
   ]
  }
 ],
 "metadata": {
  "kernelspec": {
   "display_name": "water-network-py3.10",
   "language": "python",
   "name": "python3"
  },
  "language_info": {
   "codemirror_mode": {
    "name": "ipython",
    "version": 3
   },
   "file_extension": ".py",
   "mimetype": "text/x-python",
   "name": "python",
   "nbconvert_exporter": "python",
   "pygments_lexer": "ipython3",
   "version": "3.10.6"
  }
 },
 "nbformat": 4,
 "nbformat_minor": 4
}
