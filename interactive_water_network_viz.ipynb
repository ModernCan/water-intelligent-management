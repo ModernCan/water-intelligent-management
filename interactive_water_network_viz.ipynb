{
 "cells": [
  {
   "cell_type": "markdown",
   "metadata": {},
   "source": [
    "# 🌊 Interactive Water Network Visualization\n",
    "\n",
    "This notebook provides comprehensive interactive visualization capabilities for your water network graph database.\n",
    "\n",
    "## Features:\n",
    "- 🎯 **Interactive Plotly graphs** with hover details and zooming\n",
    "- 🌐 **PyVis network visualization** with physics simulation\n",
    "- 📊 **Network analysis** and statistics\n",
    "- 🔍 **Component exploration** and path finding\n",
    "- 📈 **Visual analytics** and reporting"
   ]
  },
  {
   "cell_type": "markdown",
   "metadata": {},
   "source": [
    "## 1. Setup and Imports"
   ]
  },
  {
   "cell_type": "code",
   "execution_count": 1,
   "metadata": {},
   "outputs": [
    {
     "name": "stdout",
     "output_type": "stream",
     "text": [
      "  System: darwin\n",
      "  Platform: macOS-15.6-arm64-arm-64bit\n",
      "  Python version: 3.10.6\n",
      "  System Execution (Python) path: .venv/bin/python\n",
      "  Last update: 2025-08-14\n"
     ]
    }
   ],
   "source": [
    "# Required Modules\n",
    "\n",
    "import sys\n",
    "import os\n",
    "import logging\n",
    "import platform\n",
    "from datetime import date, datetime\n",
    "\n",
    "from dotenv import load_dotenv\n",
    "\n",
    "import pandas as pd\n",
    "import matplotlib.pyplot as plt\n",
    "from neo4j import GraphDatabase\n",
    "\n",
    "# Interactive visualization libraries\n",
    "import networkx as nx\n",
    "import plotly.graph_objects as go\n",
    "import plotly.express as px\n",
    "from pyvis.network import Network\n",
    "from IPython.display import HTML, display\n",
    "\n",
    "# Jupyter display settings\n",
    "import warnings\n",
    "warnings.filterwarnings('ignore')\n",
    "\n",
    "print(f\"  System: {sys.platform}\")\n",
    "print(f\"  Platform: {platform.platform()}\")\n",
    "print(f\"  Python version: {platform.python_version()}\")\n",
    "print(f\"  System Execution (Python) path: {'/'.join(sys.executable.strip('/').split('/')[-3:])}\")\n",
    "print(f\"  Last update: {date.today().strftime('%Y-%m-%d')}\")"
   ]
  },
  {
   "cell_type": "code",
   "execution_count": 2,
   "metadata": {},
   "outputs": [],
   "source": [
    "# Configure logging\n",
    "logging.basicConfig(level=logging.INFO,\n",
    "                    format='%(asctime)s - %(name)s - %(levelname)s - %(message)s')\n",
    "logger = logging.getLogger(__name__)"
   ]
  },
  {
   "cell_type": "markdown",
   "metadata": {},
   "source": [
    "## 2. Database Connection\n",
    "\n",
    "**Update the connection parameters below with your Neo4j credentials:**"
   ]
  },
  {
   "cell_type": "code",
   "execution_count": 3,
   "metadata": {},
   "outputs": [
    {
     "name": "stdout",
     "output_type": "stream",
     "text": [
      "🟢 Connection successful!\n",
      "📊 Found 8 nodes in the database\n"
     ]
    }
   ],
   "source": [
    "# Create connection\n",
    "driver = GraphDatabase.driver(uri= os.environ.get(\"URI\"),\n",
    "                              auth=(os.environ.get(\"USER\"),\n",
    "                                    os.environ.get(\"PASSWORD\")\n",
    "                                    )\n",
    "                                )\n",
    "\n",
    "# Test connection\n",
    "try:\n",
    "    with driver.session() as session:\n",
    "        result = session.run(\"RETURN 'Connection successful!' AS message\")\n",
    "        print(f\"🟢 {result.single()['message']}\")\n",
    "        \n",
    "        # Check if we have data\n",
    "        count_result = session.run(\"MATCH (n) RETURN count(n) as total\")\n",
    "        total_nodes = count_result.single()['total']\n",
    "        print(f\"📊 Found {total_nodes} nodes in the database\")\n",
    "        \n",
    "        if total_nodes == 0:\n",
    "            print(\"⚠️ No data found. Please run the setup notebook first to create sample data.\")\n",
    "            \n",
    "except Exception as e:\n",
    "    print(f\"🔴 Connection failed: {e}\")\n",
    "    print(\"Please check your connection parameters and ensure Neo4j is running.\")"
   ]
  },
  {
   "cell_type": "markdown",
   "metadata": {},
   "source": [
    "## 3. Data Fetching Functions"
   ]
  },
  {
   "cell_type": "code",
   "execution_count": 3,
   "metadata": {},
   "outputs": [
    {
     "name": "stdout",
     "output_type": "stream",
     "text": [
      "📊 Fetched 8 nodes and 7 edges\n",
      "🏗️ Node types: {'Tank', 'Valve', 'Pump', 'Pipe', 'Junction'}\n"
     ]
    }
   ],
   "source": [
    "def fetch_network_data(driver):\n",
    "    \"\"\"Fetch all nodes and relationships from Neo4j\"\"\"\n",
    "    with driver.session() as session:\n",
    "        # Get all nodes (using elementId instead of deprecated id)\n",
    "        nodes_query = \"\"\"\n",
    "        MATCH (n) \n",
    "        RETURN elementId(n) as node_id, labels(n) as labels, properties(n) as props\n",
    "        \"\"\"\n",
    "        nodes_result = session.run(nodes_query)\n",
    "        nodes = []\n",
    "        for record in nodes_result:\n",
    "            node = {\n",
    "                'id': record['node_id'],\n",
    "                'label': record['labels'][0] if record['labels'] else 'Unknown',\n",
    "                'properties': record['props']\n",
    "            }\n",
    "            nodes.append(node)\n",
    "        \n",
    "        # Get all relationships (using elementId instead of deprecated id)\n",
    "        edges_query = \"\"\"\n",
    "        MATCH (n)-[r]->(m) \n",
    "        RETURN elementId(n) as source, elementId(m) as target, type(r) as relationship\n",
    "        \"\"\"\n",
    "        edges_result = session.run(edges_query)\n",
    "        edges = []\n",
    "        for record in edges_result:\n",
    "            edge = {\n",
    "                'source': record['source'],\n",
    "                'target': record['target'],\n",
    "                'relationship': record['relationship']\n",
    "            }\n",
    "            edges.append(edge)\n",
    "    \n",
    "    return nodes, edges\n",
    "\n",
    "# Test the function\n",
    "nodes, edges = fetch_network_data(driver)\n",
    "print(f\"📊 Fetched {len(nodes)} nodes and {len(edges)} edges\")\n",
    "print(f\"🏗️ Node types: {set(node['label'] for node in nodes)}\")"
   ]
  },
  {
   "cell_type": "markdown",
   "metadata": {},
   "source": [
    "## 4. Interactive Plotly Visualization\n",
    "\n",
    "This creates a fully interactive graph with hover details, zooming, and component filtering."
   ]
  },
  {
   "cell_type": "code",
   "execution_count": 4,
   "metadata": {},
   "outputs": [],
   "source": [
    "def create_interactive_plotly_graph(driver):\n",
    "    \"\"\"Create an interactive graph using Plotly\"\"\"\n",
    "    nodes, edges = fetch_network_data(driver)\n",
    "    \n",
    "    if not nodes:\n",
    "        print(\"No data to visualize. Please create some nodes first.\")\n",
    "        return None\n",
    "    \n",
    "    # Create NetworkX graph\n",
    "    G = nx.Graph()\n",
    "    \n",
    "    # Add nodes\n",
    "    for node in nodes:\n",
    "        G.add_node(node['id'], \n",
    "                  label=node['label'], \n",
    "                  component_id=node['properties'].get('id', 'Unknown'),\n",
    "                  **node['properties'])\n",
    "    \n",
    "    # Add edges\n",
    "    for edge in edges:\n",
    "        G.add_edge(edge['source'], edge['target'], relationship=edge['relationship'])\n",
    "    \n",
    "    # Generate layout\n",
    "    pos = nx.spring_layout(G, k=3, iterations=50)\n",
    "    \n",
    "    # Create edge traces\n",
    "    edge_x = []\n",
    "    edge_y = []\n",
    "    \n",
    "    for edge in G.edges():\n",
    "        x0, y0 = pos[edge[0]]\n",
    "        x1, y1 = pos[edge[1]]\n",
    "        edge_x.extend([x0, x1, None])\n",
    "        edge_y.extend([y0, y1, None])\n",
    "    \n",
    "    edge_trace = go.Scatter(\n",
    "        x=edge_x, y=edge_y,\n",
    "        line=dict(width=2, color='#888'),\n",
    "        hoverinfo='none',\n",
    "        mode='lines',\n",
    "        name='Connections'\n",
    "    )\n",
    "    \n",
    "    # Color scheme for different component types\n",
    "    colors = {\n",
    "        'Tank': '#1f77b4',      # Blue\n",
    "        'Junction': '#ff7f0e',   # Orange  \n",
    "        'Valve': '#2ca02c',      # Green\n",
    "        'Pipe': '#d62728',       # Red\n",
    "        'Pump': '#9467bd'        # Purple\n",
    "    }\n",
    "    \n",
    "    # Create node traces by type\n",
    "    node_traces = {}\n",
    "    \n",
    "    for node in nodes:\n",
    "        node_type = node['label']\n",
    "        if node_type not in node_traces:\n",
    "            node_traces[node_type] = {\n",
    "                'x': [], 'y': [], 'text': [], 'ids': [],\n",
    "                'hovertext': []\n",
    "            }\n",
    "        \n",
    "        x, y = pos[node['id']]\n",
    "        node_traces[node_type]['x'].append(x)\n",
    "        node_traces[node_type]['y'].append(y)\n",
    "        node_traces[node_type]['ids'].append(node['id'])\n",
    "        \n",
    "        # Create hover text\n",
    "        component_id = node['properties'].get('id', 'Unknown')\n",
    "        hover_text = f\"<b>{node_type}: {component_id}</b><br>\"\n",
    "        for key, value in node['properties'].items():\n",
    "            if key != 'id':\n",
    "                hover_text += f\"{key}: {value}<br>\"\n",
    "        \n",
    "        node_traces[node_type]['text'].append(component_id)\n",
    "        node_traces[node_type]['hovertext'].append(hover_text)\n",
    "    \n",
    "    # Create Plotly traces\n",
    "    traces = [edge_trace]\n",
    "    \n",
    "    for node_type, trace_data in node_traces.items():\n",
    "        trace = go.Scatter(\n",
    "            x=trace_data['x'], \n",
    "            y=trace_data['y'],\n",
    "            mode='markers+text',\n",
    "            text=trace_data['text'],\n",
    "            textposition=\"middle center\",\n",
    "            hovertemplate=\"%{hovertext}<extra></extra>\",\n",
    "            hovertext=trace_data['hovertext'],\n",
    "            marker=dict(\n",
    "                size=20,\n",
    "                color=colors.get(node_type, '#999999'),\n",
    "                line=dict(width=2, color='white')\n",
    "            ),\n",
    "            name=node_type,\n",
    "            showlegend=True\n",
    "        )\n",
    "        traces.append(trace)\n",
    "    \n",
    "    # Create layout with correct title format\n",
    "    layout = go.Layout(\n",
    "        title=dict(text=\"🌊 Interactive Water Network Graph\", font=dict(size=16)),\n",
    "        showlegend=True,\n",
    "        hovermode='closest',\n",
    "        margin=dict(b=20,l=5,r=5,t=40),\n",
    "        annotations=[ dict(\n",
    "            text=\"💡 Hover over nodes for details • Click legend to hide/show types • Drag to pan • Scroll to zoom\",\n",
    "            showarrow=False,\n",
    "            xref=\"paper\", yref=\"paper\",\n",
    "            x=0.005, y=-0.002,\n",
    "            xanchor=\"left\", yanchor=\"bottom\",\n",
    "            font=dict(color=\"grey\", size=12)\n",
    "        )],\n",
    "        xaxis=dict(showgrid=False, zeroline=False, showticklabels=False),\n",
    "        yaxis=dict(showgrid=False, zeroline=False, showticklabels=False),\n",
    "        plot_bgcolor='white'\n",
    "    )\n",
    "    \n",
    "    fig = go.Figure(data=traces, layout=layout)\n",
    "    return fig"
   ]
  },
  {
   "cell_type": "code",
   "execution_count": 5,
   "metadata": {},
   "outputs": [
    {
     "name": "stdout",
     "output_type": "stream",
     "text": [
      "🚀 Creating interactive Plotly graph...\n"
     ]
    },
    {
     "data": {
      "application/vnd.plotly.v1+json": {
       "config": {
        "plotlyServerURL": "https://plot.ly"
       },
       "data": [
        {
         "hoverinfo": "none",
         "line": {
          "color": "#888",
          "width": 2
         },
         "mode": "lines",
         "name": "Connections",
         "type": "scatter",
         "x": [
          -1,
          0.6217819301206864,
          null,
          -0.06898220010186966,
          0.7351210408326926,
          null,
          -0.06898220010186966,
          0.6217819301206864,
          null,
          -0.55513471893537,
          0.9828326900908557,
          null,
          -0.55513471893537,
          -0.8269768130376663,
          null,
          -0.55513471893537,
          0.1113580710306712,
          null,
          0.7351210408326926,
          0.1113580710306712,
          null
         ],
         "y": [
          -0.11852135023076406,
          0.8660401679829822,
          null,
          0.8693800801198494,
          -0.5879697923268014,
          null,
          0.8693800801198494,
          0.8660401679829822,
          null,
          -0.7996862831542438,
          0.045059268695614066,
          null,
          -0.7996862831542438,
          0.5925913466944468,
          null,
          -0.7996862831542438,
          -0.8668934377810833,
          null,
          -0.5879697923268014,
          -0.8668934377810833,
          null
         ]
        },
        {
         "hovertemplate": "%{hovertext}<extra></extra>",
         "hovertext": [
          "<b>Tank: TNK001</b><br>level: 850000<br>location: Reservoir Hill<br>elevation: 120.0<br>capacity: 1000000<br>"
         ],
         "marker": {
          "color": "#1f77b4",
          "line": {
           "color": "white",
           "width": 2
          },
          "size": 20
         },
         "mode": "markers+text",
         "name": "Tank",
         "showlegend": true,
         "text": [
          "TNK001"
         ],
         "textposition": "middle center",
         "type": "scatter",
         "x": [
          -1
         ],
         "y": [
          -0.11852135023076406
         ]
        },
        {
         "hovertemplate": "%{hovertext}<extra></extra>",
         "hovertext": [
          "<b>Junction: JCT001</b><br>location: North District<br>elevation: 100.0<br>",
          "<b>Junction: JCT002</b><br>location: Central Plaza<br>elevation: 95.0<br>"
         ],
         "marker": {
          "color": "#ff7f0e",
          "line": {
           "color": "white",
           "width": 2
          },
          "size": 20
         },
         "mode": "markers+text",
         "name": "Junction",
         "showlegend": true,
         "text": [
          "JCT001",
          "JCT002"
         ],
         "textposition": "middle center",
         "type": "scatter",
         "x": [
          -0.06898220010186966,
          -0.55513471893537
         ],
         "y": [
          0.8693800801198494,
          -0.7996862831542438
         ]
        },
        {
         "hovertemplate": "%{hovertext}<extra></extra>",
         "hovertext": [
          "<b>Valve: VLV001</b><br>diameter: 12<br>installDate: 2015-03-15<br>status: Open<br>type: Gate Valve<br>",
          "<b>Valve: VLV002</b><br>diameter: 8<br>installDate: 2018-07-22<br>status: Closed<br>type: Ball Valve<br>"
         ],
         "marker": {
          "color": "#2ca02c",
          "line": {
           "color": "white",
           "width": 2
          },
          "size": 20
         },
         "mode": "markers+text",
         "name": "Valve",
         "showlegend": true,
         "text": [
          "VLV001",
          "VLV002"
         ],
         "textposition": "middle center",
         "type": "scatter",
         "x": [
          0.7351210408326926,
          0.9828326900908557
         ],
         "y": [
          -0.5879697923268014,
          0.045059268695614066
         ]
        },
        {
         "hovertemplate": "%{hovertext}<extra></extra>",
         "hovertext": [
          "<b>Pump: PMP001</b><br>status: Running<br>power: 25.5<br>capacity: 500<br>type: Centrifugal<br>"
         ],
         "marker": {
          "color": "#9467bd",
          "line": {
           "color": "white",
           "width": 2
          },
          "size": 20
         },
         "mode": "markers+text",
         "name": "Pump",
         "showlegend": true,
         "text": [
          "PMP001"
         ],
         "textposition": "middle center",
         "type": "scatter",
         "x": [
          -0.8269768130376663
         ],
         "y": [
          0.5925913466944468
         ]
        },
        {
         "hovertemplate": "%{hovertext}<extra></extra>",
         "hovertext": [
          "<b>Pipe: PIP001</b><br>diameter: 12<br>installDate: 2010-05-10<br>length: 500.0<br>material: Cast Iron<br>",
          "<b>Pipe: PIP002</b><br>diameter: 8<br>installDate: 2020-01-15<br>length: 300.0<br>material: PVC<br>"
         ],
         "marker": {
          "color": "#d62728",
          "line": {
           "color": "white",
           "width": 2
          },
          "size": 20
         },
         "mode": "markers+text",
         "name": "Pipe",
         "showlegend": true,
         "text": [
          "PIP001",
          "PIP002"
         ],
         "textposition": "middle center",
         "type": "scatter",
         "x": [
          0.6217819301206864,
          0.1113580710306712
         ],
         "y": [
          0.8660401679829822,
          -0.8668934377810833
         ]
        }
       ],
       "layout": {
        "annotations": [
         {
          "font": {
           "color": "grey",
           "size": 12
          },
          "showarrow": false,
          "text": "💡 Hover over nodes for details • Click legend to hide/show types • Drag to pan • Scroll to zoom",
          "x": 0.005,
          "xanchor": "left",
          "xref": "paper",
          "y": -0.002,
          "yanchor": "bottom",
          "yref": "paper"
         }
        ],
        "hovermode": "closest",
        "margin": {
         "b": 20,
         "l": 5,
         "r": 5,
         "t": 40
        },
        "plot_bgcolor": "white",
        "showlegend": true,
        "template": {
         "data": {
          "bar": [
           {
            "error_x": {
             "color": "#2a3f5f"
            },
            "error_y": {
             "color": "#2a3f5f"
            },
            "marker": {
             "line": {
              "color": "#E5ECF6",
              "width": 0.5
             },
             "pattern": {
              "fillmode": "overlay",
              "size": 10,
              "solidity": 0.2
             }
            },
            "type": "bar"
           }
          ],
          "barpolar": [
           {
            "marker": {
             "line": {
              "color": "#E5ECF6",
              "width": 0.5
             },
             "pattern": {
              "fillmode": "overlay",
              "size": 10,
              "solidity": 0.2
             }
            },
            "type": "barpolar"
           }
          ],
          "carpet": [
           {
            "aaxis": {
             "endlinecolor": "#2a3f5f",
             "gridcolor": "white",
             "linecolor": "white",
             "minorgridcolor": "white",
             "startlinecolor": "#2a3f5f"
            },
            "baxis": {
             "endlinecolor": "#2a3f5f",
             "gridcolor": "white",
             "linecolor": "white",
             "minorgridcolor": "white",
             "startlinecolor": "#2a3f5f"
            },
            "type": "carpet"
           }
          ],
          "choropleth": [
           {
            "colorbar": {
             "outlinewidth": 0,
             "ticks": ""
            },
            "type": "choropleth"
           }
          ],
          "contour": [
           {
            "colorbar": {
             "outlinewidth": 0,
             "ticks": ""
            },
            "colorscale": [
             [
              0,
              "#0d0887"
             ],
             [
              0.1111111111111111,
              "#46039f"
             ],
             [
              0.2222222222222222,
              "#7201a8"
             ],
             [
              0.3333333333333333,
              "#9c179e"
             ],
             [
              0.4444444444444444,
              "#bd3786"
             ],
             [
              0.5555555555555556,
              "#d8576b"
             ],
             [
              0.6666666666666666,
              "#ed7953"
             ],
             [
              0.7777777777777778,
              "#fb9f3a"
             ],
             [
              0.8888888888888888,
              "#fdca26"
             ],
             [
              1,
              "#f0f921"
             ]
            ],
            "type": "contour"
           }
          ],
          "contourcarpet": [
           {
            "colorbar": {
             "outlinewidth": 0,
             "ticks": ""
            },
            "type": "contourcarpet"
           }
          ],
          "heatmap": [
           {
            "colorbar": {
             "outlinewidth": 0,
             "ticks": ""
            },
            "colorscale": [
             [
              0,
              "#0d0887"
             ],
             [
              0.1111111111111111,
              "#46039f"
             ],
             [
              0.2222222222222222,
              "#7201a8"
             ],
             [
              0.3333333333333333,
              "#9c179e"
             ],
             [
              0.4444444444444444,
              "#bd3786"
             ],
             [
              0.5555555555555556,
              "#d8576b"
             ],
             [
              0.6666666666666666,
              "#ed7953"
             ],
             [
              0.7777777777777778,
              "#fb9f3a"
             ],
             [
              0.8888888888888888,
              "#fdca26"
             ],
             [
              1,
              "#f0f921"
             ]
            ],
            "type": "heatmap"
           }
          ],
          "histogram": [
           {
            "marker": {
             "pattern": {
              "fillmode": "overlay",
              "size": 10,
              "solidity": 0.2
             }
            },
            "type": "histogram"
           }
          ],
          "histogram2d": [
           {
            "colorbar": {
             "outlinewidth": 0,
             "ticks": ""
            },
            "colorscale": [
             [
              0,
              "#0d0887"
             ],
             [
              0.1111111111111111,
              "#46039f"
             ],
             [
              0.2222222222222222,
              "#7201a8"
             ],
             [
              0.3333333333333333,
              "#9c179e"
             ],
             [
              0.4444444444444444,
              "#bd3786"
             ],
             [
              0.5555555555555556,
              "#d8576b"
             ],
             [
              0.6666666666666666,
              "#ed7953"
             ],
             [
              0.7777777777777778,
              "#fb9f3a"
             ],
             [
              0.8888888888888888,
              "#fdca26"
             ],
             [
              1,
              "#f0f921"
             ]
            ],
            "type": "histogram2d"
           }
          ],
          "histogram2dcontour": [
           {
            "colorbar": {
             "outlinewidth": 0,
             "ticks": ""
            },
            "colorscale": [
             [
              0,
              "#0d0887"
             ],
             [
              0.1111111111111111,
              "#46039f"
             ],
             [
              0.2222222222222222,
              "#7201a8"
             ],
             [
              0.3333333333333333,
              "#9c179e"
             ],
             [
              0.4444444444444444,
              "#bd3786"
             ],
             [
              0.5555555555555556,
              "#d8576b"
             ],
             [
              0.6666666666666666,
              "#ed7953"
             ],
             [
              0.7777777777777778,
              "#fb9f3a"
             ],
             [
              0.8888888888888888,
              "#fdca26"
             ],
             [
              1,
              "#f0f921"
             ]
            ],
            "type": "histogram2dcontour"
           }
          ],
          "mesh3d": [
           {
            "colorbar": {
             "outlinewidth": 0,
             "ticks": ""
            },
            "type": "mesh3d"
           }
          ],
          "parcoords": [
           {
            "line": {
             "colorbar": {
              "outlinewidth": 0,
              "ticks": ""
             }
            },
            "type": "parcoords"
           }
          ],
          "pie": [
           {
            "automargin": true,
            "type": "pie"
           }
          ],
          "scatter": [
           {
            "fillpattern": {
             "fillmode": "overlay",
             "size": 10,
             "solidity": 0.2
            },
            "type": "scatter"
           }
          ],
          "scatter3d": [
           {
            "line": {
             "colorbar": {
              "outlinewidth": 0,
              "ticks": ""
             }
            },
            "marker": {
             "colorbar": {
              "outlinewidth": 0,
              "ticks": ""
             }
            },
            "type": "scatter3d"
           }
          ],
          "scattercarpet": [
           {
            "marker": {
             "colorbar": {
              "outlinewidth": 0,
              "ticks": ""
             }
            },
            "type": "scattercarpet"
           }
          ],
          "scattergeo": [
           {
            "marker": {
             "colorbar": {
              "outlinewidth": 0,
              "ticks": ""
             }
            },
            "type": "scattergeo"
           }
          ],
          "scattergl": [
           {
            "marker": {
             "colorbar": {
              "outlinewidth": 0,
              "ticks": ""
             }
            },
            "type": "scattergl"
           }
          ],
          "scattermap": [
           {
            "marker": {
             "colorbar": {
              "outlinewidth": 0,
              "ticks": ""
             }
            },
            "type": "scattermap"
           }
          ],
          "scattermapbox": [
           {
            "marker": {
             "colorbar": {
              "outlinewidth": 0,
              "ticks": ""
             }
            },
            "type": "scattermapbox"
           }
          ],
          "scatterpolar": [
           {
            "marker": {
             "colorbar": {
              "outlinewidth": 0,
              "ticks": ""
             }
            },
            "type": "scatterpolar"
           }
          ],
          "scatterpolargl": [
           {
            "marker": {
             "colorbar": {
              "outlinewidth": 0,
              "ticks": ""
             }
            },
            "type": "scatterpolargl"
           }
          ],
          "scatterternary": [
           {
            "marker": {
             "colorbar": {
              "outlinewidth": 0,
              "ticks": ""
             }
            },
            "type": "scatterternary"
           }
          ],
          "surface": [
           {
            "colorbar": {
             "outlinewidth": 0,
             "ticks": ""
            },
            "colorscale": [
             [
              0,
              "#0d0887"
             ],
             [
              0.1111111111111111,
              "#46039f"
             ],
             [
              0.2222222222222222,
              "#7201a8"
             ],
             [
              0.3333333333333333,
              "#9c179e"
             ],
             [
              0.4444444444444444,
              "#bd3786"
             ],
             [
              0.5555555555555556,
              "#d8576b"
             ],
             [
              0.6666666666666666,
              "#ed7953"
             ],
             [
              0.7777777777777778,
              "#fb9f3a"
             ],
             [
              0.8888888888888888,
              "#fdca26"
             ],
             [
              1,
              "#f0f921"
             ]
            ],
            "type": "surface"
           }
          ],
          "table": [
           {
            "cells": {
             "fill": {
              "color": "#EBF0F8"
             },
             "line": {
              "color": "white"
             }
            },
            "header": {
             "fill": {
              "color": "#C8D4E3"
             },
             "line": {
              "color": "white"
             }
            },
            "type": "table"
           }
          ]
         },
         "layout": {
          "annotationdefaults": {
           "arrowcolor": "#2a3f5f",
           "arrowhead": 0,
           "arrowwidth": 1
          },
          "autotypenumbers": "strict",
          "coloraxis": {
           "colorbar": {
            "outlinewidth": 0,
            "ticks": ""
           }
          },
          "colorscale": {
           "diverging": [
            [
             0,
             "#8e0152"
            ],
            [
             0.1,
             "#c51b7d"
            ],
            [
             0.2,
             "#de77ae"
            ],
            [
             0.3,
             "#f1b6da"
            ],
            [
             0.4,
             "#fde0ef"
            ],
            [
             0.5,
             "#f7f7f7"
            ],
            [
             0.6,
             "#e6f5d0"
            ],
            [
             0.7,
             "#b8e186"
            ],
            [
             0.8,
             "#7fbc41"
            ],
            [
             0.9,
             "#4d9221"
            ],
            [
             1,
             "#276419"
            ]
           ],
           "sequential": [
            [
             0,
             "#0d0887"
            ],
            [
             0.1111111111111111,
             "#46039f"
            ],
            [
             0.2222222222222222,
             "#7201a8"
            ],
            [
             0.3333333333333333,
             "#9c179e"
            ],
            [
             0.4444444444444444,
             "#bd3786"
            ],
            [
             0.5555555555555556,
             "#d8576b"
            ],
            [
             0.6666666666666666,
             "#ed7953"
            ],
            [
             0.7777777777777778,
             "#fb9f3a"
            ],
            [
             0.8888888888888888,
             "#fdca26"
            ],
            [
             1,
             "#f0f921"
            ]
           ],
           "sequentialminus": [
            [
             0,
             "#0d0887"
            ],
            [
             0.1111111111111111,
             "#46039f"
            ],
            [
             0.2222222222222222,
             "#7201a8"
            ],
            [
             0.3333333333333333,
             "#9c179e"
            ],
            [
             0.4444444444444444,
             "#bd3786"
            ],
            [
             0.5555555555555556,
             "#d8576b"
            ],
            [
             0.6666666666666666,
             "#ed7953"
            ],
            [
             0.7777777777777778,
             "#fb9f3a"
            ],
            [
             0.8888888888888888,
             "#fdca26"
            ],
            [
             1,
             "#f0f921"
            ]
           ]
          },
          "colorway": [
           "#636efa",
           "#EF553B",
           "#00cc96",
           "#ab63fa",
           "#FFA15A",
           "#19d3f3",
           "#FF6692",
           "#B6E880",
           "#FF97FF",
           "#FECB52"
          ],
          "font": {
           "color": "#2a3f5f"
          },
          "geo": {
           "bgcolor": "white",
           "lakecolor": "white",
           "landcolor": "#E5ECF6",
           "showlakes": true,
           "showland": true,
           "subunitcolor": "white"
          },
          "hoverlabel": {
           "align": "left"
          },
          "hovermode": "closest",
          "mapbox": {
           "style": "light"
          },
          "paper_bgcolor": "white",
          "plot_bgcolor": "#E5ECF6",
          "polar": {
           "angularaxis": {
            "gridcolor": "white",
            "linecolor": "white",
            "ticks": ""
           },
           "bgcolor": "#E5ECF6",
           "radialaxis": {
            "gridcolor": "white",
            "linecolor": "white",
            "ticks": ""
           }
          },
          "scene": {
           "xaxis": {
            "backgroundcolor": "#E5ECF6",
            "gridcolor": "white",
            "gridwidth": 2,
            "linecolor": "white",
            "showbackground": true,
            "ticks": "",
            "zerolinecolor": "white"
           },
           "yaxis": {
            "backgroundcolor": "#E5ECF6",
            "gridcolor": "white",
            "gridwidth": 2,
            "linecolor": "white",
            "showbackground": true,
            "ticks": "",
            "zerolinecolor": "white"
           },
           "zaxis": {
            "backgroundcolor": "#E5ECF6",
            "gridcolor": "white",
            "gridwidth": 2,
            "linecolor": "white",
            "showbackground": true,
            "ticks": "",
            "zerolinecolor": "white"
           }
          },
          "shapedefaults": {
           "line": {
            "color": "#2a3f5f"
           }
          },
          "ternary": {
           "aaxis": {
            "gridcolor": "white",
            "linecolor": "white",
            "ticks": ""
           },
           "baxis": {
            "gridcolor": "white",
            "linecolor": "white",
            "ticks": ""
           },
           "bgcolor": "#E5ECF6",
           "caxis": {
            "gridcolor": "white",
            "linecolor": "white",
            "ticks": ""
           }
          },
          "title": {
           "x": 0.05
          },
          "xaxis": {
           "automargin": true,
           "gridcolor": "white",
           "linecolor": "white",
           "ticks": "",
           "title": {
            "standoff": 15
           },
           "zerolinecolor": "white",
           "zerolinewidth": 2
          },
          "yaxis": {
           "automargin": true,
           "gridcolor": "white",
           "linecolor": "white",
           "ticks": "",
           "title": {
            "standoff": 15
           },
           "zerolinecolor": "white",
           "zerolinewidth": 2
          }
         }
        },
        "title": {
         "font": {
          "size": 16
         },
         "text": "🌊 Interactive Water Network Graph"
        },
        "xaxis": {
         "showgrid": false,
         "showticklabels": false,
         "zeroline": false
        },
        "yaxis": {
         "showgrid": false,
         "showticklabels": false,
         "zeroline": false
        }
       }
      }
     },
     "metadata": {},
     "output_type": "display_data"
    },
    {
     "name": "stdout",
     "output_type": "stream",
     "text": [
      "✅ Interactive graph created! Try hovering, zooming, and clicking the legend.\n"
     ]
    }
   ],
   "source": [
    "# Create and display the interactive graph\n",
    "print(\"🚀 Creating interactive Plotly graph...\")\n",
    "fig = create_interactive_plotly_graph(driver)\n",
    "if fig:\n",
    "    fig.show()\n",
    "    print(\"✅ Interactive graph created! Try hovering, zooming, and clicking the legend.\")"
   ]
  },
  {
   "cell_type": "markdown",
   "metadata": {},
   "source": [
    "## 5. Network Analysis and Statistics"
   ]
  },
  {
   "cell_type": "code",
   "execution_count": 6,
   "metadata": {},
   "outputs": [
    {
     "name": "stdout",
     "output_type": "stream",
     "text": [
      "📈 Analyzing network properties...\n",
      "\n",
      "📋 Network Statistics:\n",
      "  🔢 Total Nodes: 8\n",
      "  🔗 Total Edges: 7\n",
      "  📊 Network Density: 0.250\n",
      "  🔄 Is Connected: True\n",
      "  📐 Average Degree: 1.75\n",
      "  🎯 Clustering: 0.000\n",
      "  📏 Diameter: 6\n",
      "\n",
      "🏗️ Component Distribution:\n",
      "  📦 Tank: 1\n",
      "  📦 Junction: 2\n",
      "  📦 Valve: 2\n",
      "  📦 Pump: 1\n",
      "  📦 Pipe: 2\n"
     ]
    }
   ],
   "source": [
    "def analyze_network_properties(driver):\n",
    "    \"\"\"Analyze network properties and return statistics\"\"\"\n",
    "    nodes, edges = fetch_network_data(driver)\n",
    "    \n",
    "    if not nodes:\n",
    "        return None, None\n",
    "    \n",
    "    # Create NetworkX graph for analysis\n",
    "    G = nx.Graph()\n",
    "    for node in nodes:\n",
    "        G.add_node(node['id'], **node['properties'])\n",
    "    for edge in edges:\n",
    "        G.add_edge(edge['source'], edge['target'])\n",
    "    \n",
    "    # Calculate network properties\n",
    "    stats = {\n",
    "        'total_nodes': len(nodes),\n",
    "        'total_edges': len(edges),\n",
    "        'density': nx.density(G),\n",
    "        'is_connected': nx.is_connected(G),\n",
    "        'number_of_components': nx.number_connected_components(G),\n",
    "    }\n",
    "    \n",
    "    # Add clustering and diameter only if connected\n",
    "    if nx.is_connected(G) and len(G) > 1:\n",
    "        stats['average_clustering'] = nx.average_clustering(G)\n",
    "        stats['diameter'] = nx.diameter(G)\n",
    "    else:\n",
    "        stats['average_clustering'] = 0\n",
    "        stats['diameter'] = 'N/A (not connected)'\n",
    "    \n",
    "    # Node degree statistics\n",
    "    degrees = dict(G.degree())\n",
    "    if degrees:\n",
    "        stats['average_degree'] = sum(degrees.values()) / len(degrees)\n",
    "        stats['max_degree'] = max(degrees.values())\n",
    "        stats['min_degree'] = min(degrees.values())\n",
    "    else:\n",
    "        stats['average_degree'] = 0\n",
    "        stats['max_degree'] = 0\n",
    "        stats['min_degree'] = 0\n",
    "    \n",
    "    # Component type distribution\n",
    "    component_types = {}\n",
    "    for node in nodes:\n",
    "        node_type = node['label']\n",
    "        component_types[node_type] = component_types.get(node_type, 0) + 1\n",
    "    \n",
    "    stats['component_distribution'] = component_types\n",
    "    \n",
    "    return stats, degrees\n",
    "\n",
    "# Analyze the network\n",
    "print(\"📈 Analyzing network properties...\")\n",
    "stats, degrees = analyze_network_properties(driver)\n",
    "\n",
    "if stats:\n",
    "    print(\"\\n📋 Network Statistics:\")\n",
    "    print(f\"  🔢 Total Nodes: {stats['total_nodes']}\")\n",
    "    print(f\"  🔗 Total Edges: {stats['total_edges']}\")\n",
    "    print(f\"  📊 Network Density: {stats['density']:.3f}\")\n",
    "    print(f\"  🔄 Is Connected: {stats['is_connected']}\")\n",
    "    print(f\"  📐 Average Degree: {stats['average_degree']:.2f}\")\n",
    "    print(f\"  🎯 Clustering: {stats['average_clustering']:.3f}\")\n",
    "    print(f\"  📏 Diameter: {stats['diameter']}\")\n",
    "    \n",
    "    print(f\"\\n🏗️ Component Distribution:\")\n",
    "    for comp_type, count in stats['component_distribution'].items():\n",
    "        print(f\"  📦 {comp_type}: {count}\")\n",
    "else:\n",
    "    print(\"No data to analyze.\")"
   ]
  },
  {
   "cell_type": "markdown",
   "metadata": {},
   "source": [
    "## 9. Custom Query Interface\n",
    "\n",
    "Run your own custom queries here."
   ]
  },
  {
   "cell_type": "code",
   "execution_count": 10,
   "metadata": {},
   "outputs": [
    {
     "name": "stdout",
     "output_type": "stream",
     "text": [
      "🎯 Running Custom Query Examples:\n",
      "\n",
      "🔍 Find all valves with their status:\n",
      "📝 Query: MATCH (v:Valve) RETURN v.id, v.status, v.type\n",
      "--------------------------------------------------\n",
      "  1. {'v.id': 'VLV001', 'v.status': 'Open', 'v.type': 'Gate Valve'}\n",
      "  2. {'v.id': 'VLV002', 'v.status': 'Closed', 'v.type': 'Ball Valve'}\n",
      "\n",
      "✅ Found 2 results\n",
      "\n",
      "🔍 Find components installed before 2015:\n",
      "📝 Query: MATCH (n) WHERE exists(n.installDate) AND n.installDate < date('2015-01-01') RETURN n.id, labels(n), n.installDate\n",
      "--------------------------------------------------\n",
      "  🔴 Error: {code: Neo.ClientError.Statement.SyntaxError} {message: The property existence syntax `... exists(variable.property)` is no longer supported. Please use `variable.property IS NOT NULL` instead. (line 1, column 17 (offset: 16))\n",
      "\"MATCH (n) WHERE exists(n.installDate) AND n.installDate < date('2015-01-01') RETURN n.id, labels(n), n.installDate\"\n",
      "                 ^}\n",
      "\n",
      "🔍 Find most connected components:\n",
      "📝 Query: MATCH (n)-[r]-() RETURN n.id, labels(n), count(r) as connections ORDER BY connections DESC LIMIT 3\n",
      "--------------------------------------------------\n",
      "  1. {'n.id': 'JCT002', 'labels(n)': ['Junction'], 'connections': 3}\n",
      "  2. {'n.id': 'JCT001', 'labels(n)': ['Junction'], 'connections': 2}\n",
      "  3. {'n.id': 'PIP001', 'labels(n)': ['Pipe'], 'connections': 2}\n",
      "\n",
      "✅ Found 3 results\n",
      "\n",
      "💡 Add your own queries in the cell below!\n"
     ]
    }
   ],
   "source": [
    "# Custom query area - modify the queries below to explore your network\n",
    "\n",
    "def run_custom_query(query, description=\"Custom Query\"):\n",
    "    \"\"\"Run a custom Cypher query\"\"\"\n",
    "    print(f\"\\n🔍 {description}:\")\n",
    "    print(f\"📝 Query: {query}\")\n",
    "    print(\"-\" * 50)\n",
    "    \n",
    "    try:\n",
    "        with driver.session() as session:\n",
    "            result = session.run(query)\n",
    "            records = list(result)\n",
    "            \n",
    "            if records:\n",
    "                for i, record in enumerate(records, 1):\n",
    "                    print(f\"  {i}. {dict(record)}\")\n",
    "                print(f\"\\n✅ Found {len(records)} results\")\n",
    "            else:\n",
    "                print(\"  ❌ No results found\")\n",
    "                \n",
    "    except Exception as e:\n",
    "        print(f\"  🔴 Error: {e}\")\n",
    "\n",
    "# Example custom queries - modify these as needed\n",
    "print(\"🎯 Running Custom Query Examples:\")\n",
    "\n",
    "# Query 1: Find components by type\n",
    "run_custom_query(\n",
    "    \"MATCH (v:Valve) RETURN v.id, v.status, v.type\",\n",
    "    \"Find all valves with their status\"\n",
    ")\n",
    "\n",
    "# Query 2: Find old components\n",
    "run_custom_query(\n",
    "    \"MATCH (n) WHERE exists(n.installDate) AND n.installDate < date('2015-01-01') RETURN n.id, labels(n), n.installDate\",\n",
    "    \"Find components installed before 2015\"\n",
    ")\n",
    "\n",
    "# Query 3: Find highly connected components\n",
    "run_custom_query(\n",
    "    \"MATCH (n)-[r]-() RETURN n.id, labels(n), count(r) as connections ORDER BY connections DESC LIMIT 3\",\n",
    "    \"Find most connected components\"\n",
    ")\n",
    "\n",
    "print(\"\\n💡 Add your own queries in the cell below!\")"
   ]
  },
  {
   "cell_type": "code",
   "execution_count": 11,
   "metadata": {},
   "outputs": [
    {
     "name": "stdout",
     "output_type": "stream",
     "text": [
      "\n",
      "🔍 All pipes sorted by length:\n",
      "📝 Query: MATCH (p:Pipe) RETURN p.id, p.material, p.diameter, p.length ORDER BY p.length DESC\n",
      "--------------------------------------------------\n",
      "  1. {'p.id': 'PIP001', 'p.material': 'Cast Iron', 'p.diameter': 12, 'p.length': 500.0}\n",
      "  2. {'p.id': 'PIP002', 'p.material': 'PVC', 'p.diameter': 8, 'p.length': 300.0}\n",
      "\n",
      "✅ Found 2 results\n",
      "✏️ Add your queries above by uncommenting and modifying the examples!\n"
     ]
    }
   ],
   "source": [
    "# 🎮 YOUR CUSTOM QUERIES HERE\n",
    "# Copy and modify the run_custom_query calls above to explore your network\n",
    "\n",
    "# Example: Uncomment and modify these queries\n",
    "\n",
    "# Find all pipes and their materials\n",
    "run_custom_query(\n",
    "    \"MATCH (p:Pipe) RETURN p.id, p.material, p.diameter, p.length ORDER BY p.length DESC\",\n",
    "    \"All pipes sorted by length\"\n",
    ")\n",
    "\n",
    "# Find components in a specific area\n",
    "# run_custom_query(\n",
    "#     \"MATCH (n) WHERE exists(n.location) AND n.location CONTAINS 'North' RETURN n.id, labels(n), n.location\",\n",
    "#     \"Components in North area\"\n",
    "# )\n",
    "\n",
    "# Find flow paths from tanks\n",
    "# run_custom_query(\n",
    "#     \"MATCH path = (t:Tank)-[:FEEDS*1..3]->(n) RETURN t.id as tank, collect(n.id) as fed_components\",\n",
    "#     \"Components fed by tanks (up to 3 hops)\"\n",
    "# )\n",
    "\n",
    "print(\"✏️ Add your queries above by uncommenting and modifying the examples!\")"
   ]
  },
  {
   "cell_type": "markdown",
   "metadata": {},
   "source": [
    "## 10. Summary and Next Steps"
   ]
  },
  {
   "cell_type": "code",
   "execution_count": 12,
   "metadata": {},
   "outputs": [
    {
     "name": "stdout",
     "output_type": "stream",
     "text": [
      "🎉 INTERACTIVE WATER NETWORK VISUALIZATION COMPLETE!\n",
      "============================================================\n",
      "\n",
      "📊 What you've created:\n",
      "  ✅ Interactive Plotly graph with hover details\n",
      "  ✅ Network analysis and statistics dashboard\n",
      "  ✅ PyVis interactive network (HTML file)\n",
      "  ✅ Component exploration functions\n",
      "  ✅ Custom query interface\n",
      "\n",
      "🎯 Key interactive features:\n",
      "  🖱️ Hover over nodes for component details\n",
      "  🔍 Zoom and pan in the graphs\n",
      "  👁️ Click legend to hide/show component types\n",
      "  🌐 Open HTML file for physics-based interaction\n",
      "  🔍 Query specific components and paths\n",
      "\n",
      "📁 Files created:\n",
      "  🌐 water_network_interactive.html - Interactive network (open in browser)\n",
      "\n",
      "🚀 Next steps:\n",
      "  1. Explore the interactive visualizations above\n",
      "  2. Try modifying the custom queries\n",
      "  3. Add more components to your network\n",
      "  4. Experiment with different network layouts\n",
      "  5. Share the HTML file for interactive presentations\n",
      "\n",
      "💡 Pro tips:\n",
      "  • Use this notebook for water network presentations\n",
      "  • Modify colors and layouts to match your company branding\n",
      "  • Add real-world coordinates for geographic visualization\n",
      "  • Integrate with real-time data for live monitoring\n",
      "\n",
      "🌊 Happy water network exploration!\n"
     ]
    }
   ],
   "source": [
    "# Final summary\n",
    "print(\"🎉 INTERACTIVE WATER NETWORK VISUALIZATION COMPLETE!\")\n",
    "print(\"=\" * 60)\n",
    "\n",
    "print(\"\\n📊 What you've created:\")\n",
    "print(\"  ✅ Interactive Plotly graph with hover details\")\n",
    "print(\"  ✅ Network analysis and statistics dashboard\")\n",
    "print(\"  ✅ PyVis interactive network (HTML file)\")\n",
    "print(\"  ✅ Component exploration functions\")\n",
    "print(\"  ✅ Custom query interface\")\n",
    "\n",
    "print(\"\\n🎯 Key interactive features:\")\n",
    "print(\"  🖱️ Hover over nodes for component details\")\n",
    "print(\"  🔍 Zoom and pan in the graphs\")\n",
    "print(\"  👁️ Click legend to hide/show component types\")\n",
    "print(\"  🌐 Open HTML file for physics-based interaction\")\n",
    "print(\"  🔍 Query specific components and paths\")\n",
    "\n",
    "if 'html_file' in locals():\n",
    "    print(f\"\\n📁 Files created:\")\n",
    "    print(f\"  🌐 {html_file} - Interactive network (open in browser)\")\n",
    "\n",
    "print(\"\\n🚀 Next steps:\")\n",
    "print(\"  1. Explore the interactive visualizations above\")\n",
    "print(\"  2. Try modifying the custom queries\")\n",
    "print(\"  3. Add more components to your network\")\n",
    "print(\"  4. Experiment with different network layouts\")\n",
    "print(\"  5. Share the HTML file for interactive presentations\")\n",
    "\n",
    "print(\"\\n💡 Pro tips:\")\n",
    "print(\"  • Use this notebook for water network presentations\")\n",
    "print(\"  • Modify colors and layouts to match your company branding\")\n",
    "print(\"  • Add real-world coordinates for geographic visualization\")\n",
    "print(\"  • Integrate with real-time data for live monitoring\")\n",
    "\n",
    "print(\"\\n🌊 Happy water network exploration!\")"
   ]
  },
  {
   "cell_type": "markdown",
   "metadata": {},
   "source": [
    "## 📝 Notes and Customization\n",
    "\n",
    "Use this section to add your own notes, customizations, or additional analysis:\n",
    "\n",
    "### Custom Color Schemes\n",
    "You can modify the color dictionary in the visualization functions:\n",
    "```python\n",
    "colors = {\n",
    "    'Tank': '#your_color_here',\n",
    "    'Junction': '#your_color_here', \n",
    "    # ... etc\n",
    "}\n",
    "```\n",
    "\n",
    "### Adding Real Coordinates\n",
    "If you have GPS coordinates, you can create geographic visualizations using Plotly's mapping features.\n",
    "\n",
    "### Performance Notes\n",
    "- For large networks (>1000 nodes), consider using network sampling\n",
    "- PyVis may be slow with very large networks\n",
    "- Use filtering to focus on specific network areas\n",
    "\n",
    "### Company Presentation Tips\n",
    "- Save key visualizations as images for slides\n",
    "- Use the HTML file for interactive demos\n",
    "- Customize titles and annotations with company branding\n",
    "- Focus on business value: cost savings, efficiency, risk reduction"
   ]
  }
 ],
 "metadata": {
  "kernelspec": {
   "display_name": "water-network-py3.10",
   "language": "python",
   "name": "python3"
  },
  "language_info": {
   "codemirror_mode": {
    "name": "ipython",
    "version": 3
   },
   "file_extension": ".py",
   "mimetype": "text/x-python",
   "name": "python",
   "nbconvert_exporter": "python",
   "pygments_lexer": "ipython3",
   "version": "3.10.6"
  }
 },
 "nbformat": 4,
 "nbformat_minor": 4
}
